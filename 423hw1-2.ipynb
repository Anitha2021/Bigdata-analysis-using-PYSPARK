{
  "nbformat": 4,
  "nbformat_minor": 0,
  "metadata": {
    "colab": {
      "name": "423hw1.ipynb",
      "provenance": [],
      "collapsed_sections": []
    },
    "kernelspec": {
      "name": "python3",
      "display_name": "Python 3"
    },
    "language_info": {
      "name": "python"
    }
  },
  "cells": [
    {
      "cell_type": "code",
      "execution_count": 3,
      "metadata": {
        "id": "AYiCYZE7Xg1Q"
      },
      "outputs": [],
      "source": [
        "# Run below commands\n",
        "!apt-get install openjdk-8-jdk-headless -qq > /dev/null\n",
        "!wget -q https://archive.apache.org/dist/spark/spark-3.1.2/spark-3.1.2-bin-hadoop3.2.tgz\n",
        "!tar xf spark-3.1.2-bin-hadoop3.2.tgz\n",
        "!pip install -q findspark"
      ]
    },
    {
      "cell_type": "code",
      "source": [
        "import os\n",
        "os.environ[\"JAVA_HOME\"] = \"/usr/lib/jvm/java-8-openjdk-amd64\"\n",
        "os.environ[\"SPARK_HOME\"] = \"/content/spark-3.1.2-bin-hadoop3.2\""
      ],
      "metadata": {
        "id": "jpDFyyv0XqO8"
      },
      "execution_count": 4,
      "outputs": []
    },
    {
      "cell_type": "code",
      "source": [
        "import findspark\n",
        "findspark.init()\n",
        "from pyspark.sql import SparkSession\n",
        "from pyspark import SparkConf, SparkContext\n",
        "from datetime import datetime, date, timedelta\n",
        "from dateutil import relativedelta\n",
        "from pyspark.sql import SQLContext, Row\n",
        "from pyspark.sql.types import *\n",
        "from pyspark.sql.functions import *\n",
        "from pyspark.sql import DataFrame\n",
        "from pyspark.sql.functions import *\n",
        "from pyspark.sql.functions import to_timestamp, to_date\n",
        "from pyspark.sql import functions as F  \n",
        "from pyspark.sql.functions import collect_list, collect_set, concat, first, array_distinct, col, size, expr\n",
        "from pyspark.sql import DataFrame \n",
        "import random\n",
        "import pandas as pd"
      ],
      "metadata": {
        "id": "nwE83Wn8XrLN"
      },
      "execution_count": 8,
      "outputs": []
    },
    {
      "cell_type": "code",
      "source": [
        "spark = SparkSession\\\n",
        "        .builder\\\n",
        "        .getOrCreate()"
      ],
      "metadata": {
        "id": "ZN4gV-TnXrOL"
      },
      "execution_count": 9,
      "outputs": []
    },
    {
      "cell_type": "code",
      "source": [
        "Flight2015 = spark.read.option('header','true').csv('/content/drive/MyDrive/423projects/2015-summary.csv')"
      ],
      "metadata": {
        "id": "-7NfrX2cXrQh"
      },
      "execution_count": 7,
      "outputs": []
    },
    {
      "cell_type": "code",
      "source": [
        "Flight2015.show(3)"
      ],
      "metadata": {
        "colab": {
          "base_uri": "https://localhost:8080/"
        },
        "id": "izpzWRVRYcp0",
        "outputId": "510f2943-fc0a-4658-89a1-edd367df6af8"
      },
      "execution_count": 8,
      "outputs": [
        {
          "output_type": "stream",
          "name": "stdout",
          "text": [
            "+-----------------+-------------------+-----+\n",
            "|DEST_COUNTRY_NAME|ORIGIN_COUNTRY_NAME|count|\n",
            "+-----------------+-------------------+-----+\n",
            "|    United States|            Romania|   15|\n",
            "|    United States|            Croatia|    1|\n",
            "|    United States|            Ireland|  344|\n",
            "+-----------------+-------------------+-----+\n",
            "only showing top 3 rows\n",
            "\n"
          ]
        }
      ]
    },
    {
      "cell_type": "code",
      "source": [
        "flightData2015 = spark\\\n",
        "    .read\\\n",
        "    .option(\"inferSchema\", \"true\")\\\n",
        "    .option(\"header\", \"true\")\\\n",
        "    .csv(\"/content/drive/MyDrive/423projects/2015-summary.csv\")"
      ],
      "metadata": {
        "id": "Bj-KmTeQYzqb"
      },
      "execution_count": 9,
      "outputs": []
    },
    {
      "cell_type": "code",
      "source": [
        "flightData2015.take(3)"
      ],
      "metadata": {
        "colab": {
          "base_uri": "https://localhost:8080/"
        },
        "id": "QH5ScigRZd5Y",
        "outputId": "f5d53ef8-2b72-4682-d014-3874f3e7be55"
      },
      "execution_count": 10,
      "outputs": [
        {
          "output_type": "execute_result",
          "data": {
            "text/plain": [
              "[Row(DEST_COUNTRY_NAME='United States', ORIGIN_COUNTRY_NAME='Romania', count=15),\n",
              " Row(DEST_COUNTRY_NAME='United States', ORIGIN_COUNTRY_NAME='Croatia', count=1),\n",
              " Row(DEST_COUNTRY_NAME='United States', ORIGIN_COUNTRY_NAME='Ireland', count=344)]"
            ]
          },
          "metadata": {},
          "execution_count": 10
        }
      ]
    },
    {
      "cell_type": "code",
      "source": [
        "#Sorting\n",
        "flightData2015.sort(\"count\").explain()"
      ],
      "metadata": {
        "colab": {
          "base_uri": "https://localhost:8080/"
        },
        "id": "fx7qLR4kZf9q",
        "outputId": "45aa38a2-0b5c-40d1-ca7b-98df6c8c4537"
      },
      "execution_count": 11,
      "outputs": [
        {
          "output_type": "stream",
          "name": "stdout",
          "text": [
            "== Physical Plan ==\n",
            "*(1) Sort [count#94 ASC NULLS FIRST], true, 0\n",
            "+- Exchange rangepartitioning(count#94 ASC NULLS FIRST, 200), ENSURE_REQUIREMENTS, [id=#82]\n",
            "   +- FileScan csv [DEST_COUNTRY_NAME#92,ORIGIN_COUNTRY_NAME#93,count#94] Batched: false, DataFilters: [], Format: CSV, Location: InMemoryFileIndex[file:/content/drive/MyDrive/423projects/2015-summary.csv], PartitionFilters: [], PushedFilters: [], ReadSchema: struct<DEST_COUNTRY_NAME:string,ORIGIN_COUNTRY_NAME:string,count:int>\n",
            "\n",
            "\n"
          ]
        }
      ]
    },
    {
      "cell_type": "code",
      "source": [
        "#Shuffle\n",
        "spark.conf.set(\"spark.sql.shuffle.partitions\", \"5\")\n",
        "flightData2015.sort(\"count\").take(2)"
      ],
      "metadata": {
        "colab": {
          "base_uri": "https://localhost:8080/"
        },
        "id": "tX9NprDMaLfH",
        "outputId": "6608e1f0-006e-411a-a610-c28e5fc925de"
      },
      "execution_count": 13,
      "outputs": [
        {
          "output_type": "execute_result",
          "data": {
            "text/plain": [
              "[Row(DEST_COUNTRY_NAME='United States', ORIGIN_COUNTRY_NAME='Singapore', count=1),\n",
              " Row(DEST_COUNTRY_NAME='Moldova', ORIGIN_COUNTRY_NAME='United States', count=1)]"
            ]
          },
          "metadata": {},
          "execution_count": 13
        }
      ]
    },
    {
      "cell_type": "code",
      "source": [
        "# making data frame into a table\n",
        "flightData2015.createOrReplaceTempView(\"flight_data_2015\")"
      ],
      "metadata": {
        "id": "Wy8fk5FkaSrw"
      },
      "execution_count": 14,
      "outputs": []
    },
    {
      "cell_type": "code",
      "source": [
        "# in Python\n",
        "sqlWay = spark.sql(\"\"\"\n",
        "SELECT DEST_COUNTRY_NAME, count(1)\n",
        "FROM flight_data_2015\n",
        "GROUP BY DEST_COUNTRY_NAME\n",
        "\"\"\")\n",
        "\n",
        "dataFrameWay = flightData2015\\\n",
        ".groupBy(\"DEST_COUNTRY_NAME\")\\\n",
        ".count()\n",
        "\n",
        "sqlWay.explain()\n",
        "dataFrameWay.explain()"
      ],
      "metadata": {
        "colab": {
          "base_uri": "https://localhost:8080/"
        },
        "id": "JNXDmPhfasr3",
        "outputId": "47a013bf-aa7d-49f8-f972-705d5402be6c"
      },
      "execution_count": 17,
      "outputs": [
        {
          "output_type": "stream",
          "name": "stdout",
          "text": [
            "== Physical Plan ==\n",
            "*(2) HashAggregate(keys=[DEST_COUNTRY_NAME#92], functions=[count(1)])\n",
            "+- Exchange hashpartitioning(DEST_COUNTRY_NAME#92, 5), ENSURE_REQUIREMENTS, [id=#111]\n",
            "   +- *(1) HashAggregate(keys=[DEST_COUNTRY_NAME#92], functions=[partial_count(1)])\n",
            "      +- FileScan csv [DEST_COUNTRY_NAME#92] Batched: false, DataFilters: [], Format: CSV, Location: InMemoryFileIndex[file:/content/drive/MyDrive/423projects/2015-summary.csv], PartitionFilters: [], PushedFilters: [], ReadSchema: struct<DEST_COUNTRY_NAME:string>\n",
            "\n",
            "\n",
            "== Physical Plan ==\n",
            "*(2) HashAggregate(keys=[DEST_COUNTRY_NAME#92], functions=[count(1)])\n",
            "+- Exchange hashpartitioning(DEST_COUNTRY_NAME#92, 5), ENSURE_REQUIREMENTS, [id=#130]\n",
            "   +- *(1) HashAggregate(keys=[DEST_COUNTRY_NAME#92], functions=[partial_count(1)])\n",
            "      +- FileScan csv [DEST_COUNTRY_NAME#92] Batched: false, DataFilters: [], Format: CSV, Location: InMemoryFileIndex[file:/content/drive/MyDrive/423projects/2015-summary.csv], PartitionFilters: [], PushedFilters: [], ReadSchema: struct<DEST_COUNTRY_NAME:string>\n",
            "\n",
            "\n"
          ]
        }
      ]
    },
    {
      "cell_type": "code",
      "source": [
        "from pyspark.sql.functions import max\n",
        "flightData2015.select(max(\"count\")).take(1)"
      ],
      "metadata": {
        "colab": {
          "base_uri": "https://localhost:8080/"
        },
        "id": "tJXYqcYkz5Pa",
        "outputId": "31796912-ad9d-41c8-8d27-7290dd57bede"
      },
      "execution_count": 18,
      "outputs": [
        {
          "output_type": "execute_result",
          "data": {
            "text/plain": [
              "[Row(max(count)=370002)]"
            ]
          },
          "metadata": {},
          "execution_count": 18
        }
      ]
    },
    {
      "cell_type": "code",
      "source": [
        "#find the top five destination countries in the data.\n",
        "\n",
        "maxSql = spark.sql(\"\"\"\n",
        "SELECT DEST_COUNTRY_NAME, sum(count) as destination_total\n",
        "FROM flight_data_2015\n",
        "GROUP BY DEST_COUNTRY_NAME\n",
        "ORDER BY sum(count) DESC\n",
        "LIMIT 5\n",
        "\"\"\")\n",
        "maxSql.show()"
      ],
      "metadata": {
        "colab": {
          "base_uri": "https://localhost:8080/"
        },
        "id": "effXnnr41Tb-",
        "outputId": "30eb0314-033f-47ab-bf7a-0491276d4062"
      },
      "execution_count": 51,
      "outputs": [
        {
          "output_type": "stream",
          "name": "stdout",
          "text": [
            "+-----------------+-----------------+\n",
            "|DEST_COUNTRY_NAME|destination_total|\n",
            "+-----------------+-----------------+\n",
            "|    United States|           411352|\n",
            "|           Canada|             8399|\n",
            "|           Mexico|             7140|\n",
            "|   United Kingdom|             2025|\n",
            "|            Japan|             1548|\n",
            "+-----------------+-----------------+\n",
            "\n"
          ]
        }
      ]
    },
    {
      "cell_type": "code",
      "source": [
        "\n",
        "flightData2015\\\n",
        ".groupBy(\"DEST_COUNTRY_NAME\")\\\n",
        ".sum(\"count\")\\\n",
        ".withColumnRenamed(\"sum(count)\", \"destination_total\")\\\n",
        ".sort(desc(\"destination_total\"))\\\n",
        ".limit(5)\\\n",
        ".explain()\n"
      ],
      "metadata": {
        "colab": {
          "base_uri": "https://localhost:8080/"
        },
        "id": "U8FMibTw1qKa",
        "outputId": "bb051982-7110-4507-a4da-8540b746ac24"
      },
      "execution_count": 20,
      "outputs": [
        {
          "output_type": "stream",
          "name": "stdout",
          "text": [
            "== Physical Plan ==\n",
            "TakeOrderedAndProject(limit=5, orderBy=[destination_total#151L DESC NULLS LAST], output=[DEST_COUNTRY_NAME#92,destination_total#151L])\n",
            "+- *(2) HashAggregate(keys=[DEST_COUNTRY_NAME#92], functions=[sum(cast(count#94 as bigint))])\n",
            "   +- Exchange hashpartitioning(DEST_COUNTRY_NAME#92, 5), ENSURE_REQUIREMENTS, [id=#205]\n",
            "      +- *(1) HashAggregate(keys=[DEST_COUNTRY_NAME#92], functions=[partial_sum(cast(count#94 as bigint))])\n",
            "         +- FileScan csv [DEST_COUNTRY_NAME#92,count#94] Batched: false, DataFilters: [], Format: CSV, Location: InMemoryFileIndex[file:/content/drive/MyDrive/423projects/2015-summary.csv], PartitionFilters: [], PushedFilters: [], ReadSchema: struct<DEST_COUNTRY_NAME:string,count:int>\n",
            "\n",
            "\n"
          ]
        }
      ]
    },
    {
      "cell_type": "code",
      "source": [
        "### QUESTION 2\n",
        "tempdata = spark\\\n",
        "    .read\\\n",
        "    .option(\"inferSchema\", \"true\")\\\n",
        "    .option(\"header\", \"true\")\\\n",
        "    .csv(\"/content/drive/MyDrive/423projects/GlobalLandTemperatures_GlobalLandTemperaturesByCountry.csv\")"
      ],
      "metadata": {
        "id": "EJoAXPaa2WSp"
      },
      "execution_count": 10,
      "outputs": []
    },
    {
      "cell_type": "code",
      "source": [
        "tempdata.show(6)"
      ],
      "metadata": {
        "colab": {
          "base_uri": "https://localhost:8080/"
        },
        "id": "ZvHS7SFO30AQ",
        "outputId": "42e2833c-712f-4bf7-b7f9-91b58e9ff124"
      },
      "execution_count": 11,
      "outputs": [
        {
          "output_type": "stream",
          "name": "stdout",
          "text": [
            "+----------+------------------+-----------------------------+-------+\n",
            "|        dt|AverageTemperature|AverageTemperatureUncertainty|Country|\n",
            "+----------+------------------+-----------------------------+-------+\n",
            "|1743-11-01|4.3839999999999995|                        2.294|  Åland|\n",
            "|1743-12-01|              null|                         null|  Åland|\n",
            "|1744-01-01|              null|                         null|  Åland|\n",
            "|1744-02-01|              null|                         null|  Åland|\n",
            "|1744-03-01|              null|                         null|  Åland|\n",
            "|1744-04-01|              1.53|                         4.68|  Åland|\n",
            "+----------+------------------+-----------------------------+-------+\n",
            "only showing top 6 rows\n",
            "\n"
          ]
        }
      ]
    },
    {
      "cell_type": "code",
      "source": [
        "spark.conf.set(\"spark.sql.shuffle.partitions\", \"5\")"
      ],
      "metadata": {
        "id": "Uv0Cjov9-0jQ"
      },
      "execution_count": 47,
      "outputs": []
    },
    {
      "cell_type": "code",
      "source": [
        "# Make the DataFrame into a table\n",
        "tempdata.createOrReplaceTempView(\"temp_data\")"
      ],
      "metadata": {
        "id": "tEmglNP1FfNv"
      },
      "execution_count": 51,
      "outputs": []
    },
    {
      "cell_type": "code",
      "source": [
        "#Q2.a\n",
        "#find the top five destination countries in the data.\n",
        "tempdata.sort(\"AverageTemperature\").take(3)"
      ],
      "metadata": {
        "colab": {
          "base_uri": "https://localhost:8080/"
        },
        "id": "aR829QDP4D8H",
        "outputId": "b50215e2-db7f-44c9-cc33-dd78bfd53623"
      },
      "execution_count": 14,
      "outputs": [
        {
          "output_type": "execute_result",
          "data": {
            "text/plain": [
              "[Row(dt='1743-12-01', AverageTemperature=None, AverageTemperatureUncertainty=None, Country='Montenegro'),\n",
              " Row(dt='1744-02-01', AverageTemperature=None, AverageTemperatureUncertainty=None, Country='Montenegro'),\n",
              " Row(dt='1744-01-01', AverageTemperature=None, AverageTemperatureUncertainty=None, Country='Montenegro')]"
            ]
          },
          "metadata": {},
          "execution_count": 14
        }
      ]
    },
    {
      "cell_type": "code",
      "source": [
        "df_temp = tempdata.groupBy(\"Country\", (year(\"dt\").alias('Year')))\\\n",
        "    .avg(\"AverageTemperature\")\\\n",
        "    .withColumnRenamed(\"avg(AverageTemperature)\", \"AVGTEMP\")\\\n",
        "    .sort(desc(\"AVGTEMP\"))\n",
        "df_temp.limit(1)\\\n",
        "        .show()"
      ],
      "metadata": {
        "colab": {
          "base_uri": "https://localhost:8080/"
        },
        "id": "sFmYCJkbQNax",
        "outputId": "4d4fc017-72c5-4375-ab0f-b88cc4938a6e"
      },
      "execution_count": 77,
      "outputs": [
        {
          "output_type": "stream",
          "name": "stdout",
          "text": [
            "+--------+----+------------------+\n",
            "| Country|Year|           AVGTEMP|\n",
            "+--------+----+------------------+\n",
            "|Djibouti|2013|30.744749999999996|\n",
            "+--------+----+------------------+\n",
            "\n"
          ]
        }
      ]
    },
    {
      "cell_type": "code",
      "source": [
        "tempSql2 = spark.sql(\"\"\"\n",
        " SELECT year(dt) , avg(AverageTemperature) as AVGTEMP , Country\n",
        " FROM temp_data\n",
        " GROUP BY year(dt), Country\n",
        " ORDER BY avg(AverageTemperature) DESC\n",
        " LIMIT 1\n",
        "  \"\"\")\n",
        "tempSql2.show()"
      ],
      "metadata": {
        "colab": {
          "base_uri": "https://localhost:8080/"
        },
        "id": "ngyOvVG3GZpV",
        "outputId": "82f7373b-2921-439e-c55f-3ff5576a4fa9"
      },
      "execution_count": 103,
      "outputs": [
        {
          "output_type": "stream",
          "name": "stdout",
          "text": [
            "+----------------------+------------------+--------+\n",
            "|year(CAST(dt AS DATE))|           AVGTEMP| Country|\n",
            "+----------------------+------------------+--------+\n",
            "|                  2013|30.744749999999996|Djibouti|\n",
            "+----------------------+------------------+--------+\n",
            "\n"
          ]
        }
      ]
    },
    {
      "cell_type": "code",
      "source": [
        "tempavg = tempdata.groupBy(\"Country\", year(\"dt\").alias(\"year\"))\\\n",
        "          .agg(avg(\"AverageTemperature\").alias(\"AvgTemp\"))\\\n",
        "          .sort(desc(\"AvgTemp\"))\n"
      ],
      "metadata": {
        "id": "oWe68sJf2wxZ"
      },
      "execution_count": 23,
      "outputs": []
    },
    {
      "cell_type": "code",
      "source": [
        "tempdiff = tempavg.groupBy(\"Country\")\\\n",
        "            .agg((max(\"AvgTemp\")-min(\"AvgTemp\")).alias(\"difference\"))\\\n",
        "            .sort(desc(\"difference\"))\\\n",
        "            .limit(10)\\\n",
        "            .show() "
      ],
      "metadata": {
        "colab": {
          "base_uri": "https://localhost:8080/"
        },
        "id": "54KM_TBG294c",
        "outputId": "b925d181-76da-4a81-d519-95e53df0bbf3"
      },
      "execution_count": 30,
      "outputs": [
        {
          "output_type": "stream",
          "name": "stdout",
          "text": [
            "+-------------+------------------+\n",
            "|      Country|        difference|\n",
            "+-------------+------------------+\n",
            "|       Canada|23.408714285714286|\n",
            "|       Russia|19.713666666666665|\n",
            "|   Kazakhstan|          17.72625|\n",
            "|North America|17.628666666666668|\n",
            "|       Kuwait| 15.61866666666667|\n",
            "|   Uzbekistan|          15.34025|\n",
            "|United States|15.005666666666666|\n",
            "| Turkmenistan|14.920500000000002|\n",
            "|      Algeria| 14.87266666666666|\n",
            "|       Jordan|14.373499999999998|\n",
            "+-------------+------------------+\n",
            "\n"
          ]
        }
      ]
    },
    {
      "cell_type": "code",
      "source": [
        "#CO2 Emissions dataset\n",
        "co2data = spark\\\n",
        "    .read\\\n",
        "    .option(\"inferSchema\", \"true\")\\\n",
        "    .option(\"header\", \"true\")\\\n",
        "    .csv(\"/content/drive/MyDrive/423projects/CO2 emissions per capita per country.csv\")"
      ],
      "metadata": {
        "id": "boQGV2FY3qF5"
      },
      "execution_count": 31,
      "outputs": []
    },
    {
      "cell_type": "code",
      "source": [
        "co2data.show(6)"
      ],
      "metadata": {
        "colab": {
          "base_uri": "https://localhost:8080/"
        },
        "id": "K00jUAGR4F-w",
        "outputId": "9242382c-7962-4905-8f73-57f8f53054ba"
      },
      "execution_count": 32,
      "outputs": [
        {
          "output_type": "stream",
          "name": "stdout",
          "text": [
            "+------------+------------+-----------+-----------+-----------+-----------+-----------+-----------+-----------+-----------+-----------+-----------+-----------+-----------+-----------+-----------+-----------+-----------+-----------+-----------+-----------+-----------+-----------+-----------+-----------+-----------+-----------+-----------+-----------+-----------+-----------+-----------+-----------+-----------+-----------+-----------+-----------+-----------+-----------+-----------+-----------+-----------+-----------+-----------+-----------+-----------+-----------+-----------+-----------+-----------+-----------+-----------+-----------+-----------+-----------+-----------+-----------+----+----+----+----+\n",
            "|Country Name|Country Code|       1960|       1961|       1962|       1963|       1964|       1965|       1966|       1967|       1968|       1969|       1970|       1971|       1972|       1973|       1974|       1975|       1976|       1977|       1978|       1979|       1980|       1981|       1982|       1983|       1984|       1985|       1986|       1987|       1988|       1989|       1990|       1991|       1992|       1993|       1994|       1995|       1996|       1997|       1998|       1999|       2000|       2001|       2002|       2003|       2004|       2005|       2006|       2007|       2008|       2009|       2010|       2011|       2012|       2013|       2014|2015|2016|2017|2018|\n",
            "+------------+------------+-----------+-----------+-----------+-----------+-----------+-----------+-----------+-----------+-----------+-----------+-----------+-----------+-----------+-----------+-----------+-----------+-----------+-----------+-----------+-----------+-----------+-----------+-----------+-----------+-----------+-----------+-----------+-----------+-----------+-----------+-----------+-----------+-----------+-----------+-----------+-----------+-----------+-----------+-----------+-----------+-----------+-----------+-----------+-----------+-----------+-----------+-----------+-----------+-----------+-----------+-----------+-----------+-----------+-----------+-----------+----+----+----+----+\n",
            "|       Aruba|         ABW|       null|       null|       null|       null|       null|       null|       null|       null|       null|       null|       null|       null|       null|       null|       null|       null|       null|       null|       null|       null|       null|       null|       null|       null|       null|       null|2.868319392|7.235198033|10.02617921| 10.6347326|26.37450321| 26.0461298| 21.4425588|22.00078616|21.03624511|20.77193616|20.31835337|20.42681771|20.58766915|20.31156677|26.19487524|25.93402441|25.67116178|26.42045209|26.51729342|27.20070778|26.94826047|  27.895574|26.23084664|25.91583295|24.67052887| 24.5058352|13.15554169|8.351294252|8.408362638|null|null|null|null|\n",
            "| Afghanistan|         AFG|0.046059897|0.053604304|0.073764791|0.074232685|0.086292452|0.101467397|0.107636955|0.123734289| 0.11549774| 0.08682346|0.150290627|0.166042044| 0.13076385|0.136279785|0.155649444|0.168928649|0.154787206|0.182963616|0.163159571|0.168376671|0.132858608|0.151972881|0.164803883|0.203635582|0.234987713|0.297827727|0.270891121|0.271611659|0.248472561|0.235694613|0.213449805|0.187672724|0.099666474|0.089154036| 0.08003917|0.072698618|0.066044698|0.059648382| 0.05520717|0.042332597| 0.03850634|0.039002334|0.048715548|  0.0518296|0.039377828|0.052948215|0.063728472|0.085417506|0.154101422|0.241722682|0.293836994|0.412016938|0.350370581|0.315601773|0.299444991|null|null|null|null|\n",
            "|      Angola|         AGO|0.097471604|0.079038085|0.201289076|0.192534735|0.201003361|0.191528411|0.246412785|0.154911578|0.256315998|0.419550564|0.528697988|0.492302233|0.635214721|0.670624323|0.652023363|0.574693143|0.415850303|0.434755038|0.646179204|0.636944237|0.598717343|0.571201904|0.485251545|0.515071547|0.487395694|0.443121443|0.426768722|  0.5184278|0.445557344|0.423524277|0.420284254|0.405450105|0.400678653|0.430889258|0.281092579|0.769173426|0.712306341|0.489209377| 0.47137391|0.574083595|0.580352661|0.573047493|0.720768849|0.497975073|0.996165478|0.979740026|1.098883898|1.197843982|1.181526759|1.232494515|1.243405585|1.252789255|1.330843018|1.254617218|1.291328315|null|null|null|null|\n",
            "|     Albania|         ALB|1.258194928|1.374186047|1.439955964|1.181681144| 1.11174196|1.166099043|1.333055465|  1.3637463|1.519551277|1.558967572|1.753239905|1.989497923|2.515914398|2.303897417|1.849006691|1.910633637|2.013584562|2.275876391| 2.53062504|2.898208518| 1.93505831|2.693023914|2.624856785|2.683239919|2.694291374|2.658015382|2.665356221|2.414060815|2.331598531|2.783243075|1.678106654|  1.3122126|0.774724911|0.723790292|0.600203708|0.654537133|0.636625313| 0.49036506|0.560271437|0.960164412|0.978174681|1.053304176|1.229540709|1.412697196|1.376212735|1.412498211|1.302576367|1.322334855|1.484311139|1.495600199|1.578573584|1.803714725|1.692908325|1.749211079|1.978763312|null|null|null|null|\n",
            "|     Andorra|         AND|       null|       null|       null|       null|       null|       null|       null|       null|       null|       null|       null|       null|       null|       null|       null|       null|       null|       null|       null|       null|       null|       null|       null|       null|       null|       null|       null|       null|       null|       null|7.467335669|7.182456636|6.912053389|6.736054846|6.494200424|6.662051684|7.065071473|7.239712718|7.660783886|7.975454404|8.019284294|7.786950001|7.590615141|7.315760706|7.358624941|7.299871936|6.746218716|6.519465912|6.427886622|6.121652341|6.122594702|5.867129945|5.916596911|5.900752587|5.832169951|null|null|null|null|\n",
            "|  Arab World|         ARB|0.643689011|0.685150884|0.760854507|0.874941189|0.999097655|1.165705386|1.272650672|1.331404395|1.544942527|1.789913392|1.801245462|1.993486215|2.109871603|2.396799726|2.273440745|2.184263525|2.568710035|2.631628366| 2.74324133|2.842655116|3.069208819|2.907057909| 2.70111659|2.793356928|2.956318154|3.035558013|3.255536588|3.168821856|3.264489032|3.226127128|2.989008072|3.207224619|3.385246998| 3.63837855|3.644858894|3.398199765|3.304793683|3.124848492|3.329548276|3.309553392|3.684441272|3.590302965|3.588035581|3.779889011|4.051465169|4.168486256|4.268239866|4.100226273|4.390401434|4.542151451|4.615758201|4.537755236|4.813630727|4.650474168|4.860233832|null|null|null|null|\n",
            "+------------+------------+-----------+-----------+-----------+-----------+-----------+-----------+-----------+-----------+-----------+-----------+-----------+-----------+-----------+-----------+-----------+-----------+-----------+-----------+-----------+-----------+-----------+-----------+-----------+-----------+-----------+-----------+-----------+-----------+-----------+-----------+-----------+-----------+-----------+-----------+-----------+-----------+-----------+-----------+-----------+-----------+-----------+-----------+-----------+-----------+-----------+-----------+-----------+-----------+-----------+-----------+-----------+-----------+-----------+-----------+-----------+----+----+----+----+\n",
            "only showing top 6 rows\n",
            "\n"
          ]
        }
      ]
    },
    {
      "cell_type": "code",
      "source": [
        "# Melt the CO2 dataframe\n",
        "from pyspark.sql.functions import array, col, explode, lit, struct\n",
        "from pyspark.sql import DataFrame\n",
        "from typing import Iterable \n",
        "\n",
        "def melt(\n",
        "        df: DataFrame, \n",
        "        id_vars: Iterable[str], value_vars: Iterable[str], \n",
        "        var_name: str=\"variable\", value_name: str=\"value\") -> DataFrame:\n",
        "    \"\"\"Convert :class:`DataFrame` from wide to long format.\"\"\"\n",
        "\n",
        "    # Create array<struct<variable: str, value: ...>>\n",
        "    _vars_and_vals = array(*(\n",
        "        struct(lit(c).alias(var_name), col(c).alias(value_name)) \n",
        "        for c in value_vars))\n",
        "\n",
        "    # Add to the DataFrame and explode\n",
        "    _tmp = df.withColumn(\"_vars_and_vals\", explode(_vars_and_vals))\n",
        "\n",
        "    cols = id_vars + [\n",
        "            col(\"_vars_and_vals\")[x].alias(x) for x in [var_name, value_name]]\n",
        "    return _tmp.select(*cols)"
      ],
      "metadata": {
        "id": "7DN5vEXF7y-d"
      },
      "execution_count": 37,
      "outputs": []
    },
    {
      "cell_type": "code",
      "source": [
        "#df2.createOrReplaceTempView(\"df2\")\n",
        "year_range = [str(i) for i in range(1960, 2015)]\n",
        "df2_melt = melt(co2data, id_vars=['Country Name','Country Code'], value_vars=year_range)\n",
        "df2_melt.take(30)"
      ],
      "metadata": {
        "colab": {
          "base_uri": "https://localhost:8080/"
        },
        "id": "hqRNkIY3753k",
        "outputId": "bef9f291-a068-4f08-ed95-45ca6ab53607"
      },
      "execution_count": 38,
      "outputs": [
        {
          "output_type": "execute_result",
          "data": {
            "text/plain": [
              "[Row(Country Name='Aruba', Country Code='ABW', variable='1960', value=None),\n",
              " Row(Country Name='Aruba', Country Code='ABW', variable='1961', value=None),\n",
              " Row(Country Name='Aruba', Country Code='ABW', variable='1962', value=None),\n",
              " Row(Country Name='Aruba', Country Code='ABW', variable='1963', value=None),\n",
              " Row(Country Name='Aruba', Country Code='ABW', variable='1964', value=None),\n",
              " Row(Country Name='Aruba', Country Code='ABW', variable='1965', value=None),\n",
              " Row(Country Name='Aruba', Country Code='ABW', variable='1966', value=None),\n",
              " Row(Country Name='Aruba', Country Code='ABW', variable='1967', value=None),\n",
              " Row(Country Name='Aruba', Country Code='ABW', variable='1968', value=None),\n",
              " Row(Country Name='Aruba', Country Code='ABW', variable='1969', value=None),\n",
              " Row(Country Name='Aruba', Country Code='ABW', variable='1970', value=None),\n",
              " Row(Country Name='Aruba', Country Code='ABW', variable='1971', value=None),\n",
              " Row(Country Name='Aruba', Country Code='ABW', variable='1972', value=None),\n",
              " Row(Country Name='Aruba', Country Code='ABW', variable='1973', value=None),\n",
              " Row(Country Name='Aruba', Country Code='ABW', variable='1974', value=None),\n",
              " Row(Country Name='Aruba', Country Code='ABW', variable='1975', value=None),\n",
              " Row(Country Name='Aruba', Country Code='ABW', variable='1976', value=None),\n",
              " Row(Country Name='Aruba', Country Code='ABW', variable='1977', value=None),\n",
              " Row(Country Name='Aruba', Country Code='ABW', variable='1978', value=None),\n",
              " Row(Country Name='Aruba', Country Code='ABW', variable='1979', value=None),\n",
              " Row(Country Name='Aruba', Country Code='ABW', variable='1980', value=None),\n",
              " Row(Country Name='Aruba', Country Code='ABW', variable='1981', value=None),\n",
              " Row(Country Name='Aruba', Country Code='ABW', variable='1982', value=None),\n",
              " Row(Country Name='Aruba', Country Code='ABW', variable='1983', value=None),\n",
              " Row(Country Name='Aruba', Country Code='ABW', variable='1984', value=None),\n",
              " Row(Country Name='Aruba', Country Code='ABW', variable='1985', value=None),\n",
              " Row(Country Name='Aruba', Country Code='ABW', variable='1986', value=2.868319392),\n",
              " Row(Country Name='Aruba', Country Code='ABW', variable='1987', value=7.235198033),\n",
              " Row(Country Name='Aruba', Country Code='ABW', variable='1988', value=10.02617921),\n",
              " Row(Country Name='Aruba', Country Code='ABW', variable='1989', value=10.6347326)]"
            ]
          },
          "metadata": {},
          "execution_count": 38
        }
      ]
    },
    {
      "cell_type": "code",
      "source": [
        "df_merge = df2_melt.join(df_temp,\n",
        "               (df2_melt['Country Name'] == df_temp['Country']) & \n",
        "               (df2_melt['Variable'] == df_temp['Year']),\n",
        "               \"inner\")\n",
        "df_merge.show()"
      ],
      "metadata": {
        "colab": {
          "base_uri": "https://localhost:8080/"
        },
        "id": "dDtVFZvX8Q2r",
        "outputId": "8f49bc9d-5129-46e1-980c-7faa76bc304a"
      },
      "execution_count": 78,
      "outputs": [
        {
          "output_type": "stream",
          "name": "stdout",
          "text": [
            "+------------+------------+--------+-----------+-----------+----+------------------+\n",
            "|Country Name|Country Code|variable|      value|    Country|Year|           AVGTEMP|\n",
            "+------------+------------+--------+-----------+-----------+----+------------------+\n",
            "| Afghanistan|         AFG|    1971|0.166042044|Afghanistan|1971|14.823500000000001|\n",
            "| Afghanistan|         AFG|    1977|0.182963616|Afghanistan|1977|14.805416666666668|\n",
            "| Afghanistan|         AFG|    1979|0.168376671|Afghanistan|1979|14.262083333333335|\n",
            "| Afghanistan|         AFG|    1980|0.132858608|Afghanistan|1980|14.887333333333332|\n",
            "| Afghanistan|         AFG|    1984|0.234987713|Afghanistan|1984|14.245833333333332|\n",
            "| Afghanistan|         AFG|    1985|0.297827727|Afghanistan|1985|14.888749999999996|\n",
            "| Afghanistan|         AFG|    1990|0.213449805|Afghanistan|1990|14.993333333333332|\n",
            "| Afghanistan|         AFG|    1994| 0.08003917|Afghanistan|1994|          14.75475|\n",
            "| Afghanistan|         AFG|    1996|0.066044698|Afghanistan|1996|14.426000000000002|\n",
            "| Afghanistan|         AFG|    1997|0.059648382|Afghanistan|1997|14.904000000000002|\n",
            "| Afghanistan|         AFG|    2002|0.048715548|Afghanistan|2002|15.537666666666668|\n",
            "|     Albania|         ALB|    1960|1.258194928|    Albania|1960|13.335083333333332|\n",
            "|     Albania|         ALB|    1969|1.558967572|    Albania|1969|12.802916666666667|\n",
            "|     Albania|         ALB|    1970|1.753239905|    Albania|1970|12.839666666666666|\n",
            "|     Albania|         ALB|    1973|2.303897417|    Albania|1973|12.486666666666666|\n",
            "|     Albania|         ALB|    1976|2.013584562|    Albania|1976|          12.03625|\n",
            "|     Albania|         ALB|    1992|0.774724911|    Albania|1992|13.084666666666665|\n",
            "|     Albania|         ALB|    1996|0.636625313|    Albania|1996|           12.7365|\n",
            "|     Albania|         ALB|    1999|0.960164412|    Albania|1999|          13.65375|\n",
            "|     Albania|         ALB|    2002|1.229540709|    Albania|2002|13.559916666666668|\n",
            "+------------+------------+--------+-----------+-----------+----+------------------+\n",
            "only showing top 20 rows\n",
            "\n"
          ]
        }
      ]
    },
    {
      "cell_type": "code",
      "source": [
        "df_merge.stat.corr(\"value\",\"AVGTEMP\")"
      ],
      "metadata": {
        "colab": {
          "base_uri": "https://localhost:8080/"
        },
        "id": "9tUMaj5zJiDI",
        "outputId": "1fb663d2-9ce3-4cce-d0a4-7eb7e3b53ee6"
      },
      "execution_count": 80,
      "outputs": [
        {
          "output_type": "execute_result",
          "data": {
            "text/plain": [
              "-0.16909003112369522"
            ]
          },
          "metadata": {},
          "execution_count": 80
        }
      ]
    }
  ]
}